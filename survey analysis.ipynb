{
 "cells": [
  {
   "cell_type": "markdown",
   "id": "02d805d6",
   "metadata": {},
   "source": [
    "### Project Title : Survey Dataset Analysis\n",
    "\n",
    "#### Research Questions:\n",
    "- Question 1: how many samples were collected on each day?\n",
    "- Question 2: what proportion of the total respondents were aged less than 45?\n",
    "- Question 3: create a new column in the dataframe “age_group”. This column should contain the age group the respondent belongs to. The age groups are 18-25, 25-40, 40-55 and 55+.\n",
    "- Question 4: how many samples were collected for each age-group? Which age-group had the most samples?\n",
    "- Question 5: what proportion of the respondents had opted for the RJD party in both the Vote_Now and the Past_Vote questions?\n",
    "- Question 6: for each day of sample collection, determine the proportion of respondents who were fully satisfied with the performance of the CM. So if there were a total of 1000 samples on day 1 and 300 out of those said they were fully satisfied, then our answer for that day would be 0.3.\n",
    "- Question 7: In a similar fashion create a day-wise proportion of respondents that opted fully dissatisfied with their MLA. Create a line plot of the result with date on x-axis and proportions on the y-axis.\n",
    "- Question 8: create a pivot-table (or crosstab) with index as Past_Vote, Column as Vote_Now and cell values as the count of samples.\n",
    "- Question 9: repeat the above question with the cell values as the sum of “weight”.\n",
    "- Question 10: create a dataframe by performing a group by over age_group and calculate the count of total samples under each age_group.\n",
    "- Question 11: create a dataframe by performing a group by over age_group and finding the count of total samples for each age_group that opted for the JD(U) party in Vote_Now.\n",
    "- Question 12: join/merge the two dataframes from questions 10 and 11 with the common column as age_group."
   ]
  },
  {
   "cell_type": "code",
   "execution_count": 1,
   "id": "cf87e386",
   "metadata": {},
   "outputs": [],
   "source": [
    "# import libraries\n",
    "\n",
    "import pandas as pd\n",
    "import numpy as np\n",
    "import matplotlib.pyplot as plt\n",
    "\n",
    "%matplotlib inline"
   ]
  },
  {
   "cell_type": "markdown",
   "id": "2dd8ede0",
   "metadata": {},
   "source": [
    "#### Gathering"
   ]
  },
  {
   "cell_type": "code",
   "execution_count": 3,
   "id": "f8a356ef",
   "metadata": {},
   "outputs": [
    {
     "data": {
      "text/html": [
       "<div>\n",
       "<style scoped>\n",
       "    .dataframe tbody tr th:only-of-type {\n",
       "        vertical-align: middle;\n",
       "    }\n",
       "\n",
       "    .dataframe tbody tr th {\n",
       "        vertical-align: top;\n",
       "    }\n",
       "\n",
       "    .dataframe thead th {\n",
       "        text-align: right;\n",
       "    }\n",
       "</style>\n",
       "<table border=\"1\" class=\"dataframe\">\n",
       "  <thead>\n",
       "    <tr style=\"text-align: right;\">\n",
       "      <th></th>\n",
       "      <th>response_id</th>\n",
       "      <th>collection_date</th>\n",
       "      <th>urban_rural</th>\n",
       "      <th>education</th>\n",
       "      <th>income</th>\n",
       "      <th>Vote_Now</th>\n",
       "      <th>Past_Vote</th>\n",
       "      <th>CM_satisfaction</th>\n",
       "      <th>MLA_satisfaction</th>\n",
       "      <th>age</th>\n",
       "      <th>gender</th>\n",
       "      <th>assembly_no</th>\n",
       "      <th>category</th>\n",
       "      <th>weight</th>\n",
       "    </tr>\n",
       "  </thead>\n",
       "  <tbody>\n",
       "    <tr>\n",
       "      <th>0</th>\n",
       "      <td>1</td>\n",
       "      <td>5-24-2017</td>\n",
       "      <td>Rural</td>\n",
       "      <td>12th Pass</td>\n",
       "      <td>€ 30,000 - € 50,000</td>\n",
       "      <td>BJP</td>\n",
       "      <td>BJP</td>\n",
       "      <td>Fully Dissatisfied</td>\n",
       "      <td>Fully Dissatisfied</td>\n",
       "      <td>26</td>\n",
       "      <td>Male</td>\n",
       "      <td>211</td>\n",
       "      <td>Gen</td>\n",
       "      <td>0.346969</td>\n",
       "    </tr>\n",
       "    <tr>\n",
       "      <th>1</th>\n",
       "      <td>2</td>\n",
       "      <td>5-24-2017</td>\n",
       "      <td>Rural</td>\n",
       "      <td>Graduate</td>\n",
       "      <td>€ 20,000 - € 30,000</td>\n",
       "      <td>RLSP</td>\n",
       "      <td>JD(U)</td>\n",
       "      <td>Somewhat Satisfied</td>\n",
       "      <td>Fully Dissatisfied</td>\n",
       "      <td>34</td>\n",
       "      <td>Male</td>\n",
       "      <td>189</td>\n",
       "      <td>BC</td>\n",
       "      <td>0.603419</td>\n",
       "    </tr>\n",
       "    <tr>\n",
       "      <th>2</th>\n",
       "      <td>3</td>\n",
       "      <td>5-24-2017</td>\n",
       "      <td>Rural</td>\n",
       "      <td>Graduate</td>\n",
       "      <td>€ 5,000 - € 10,000</td>\n",
       "      <td>JAP(L)</td>\n",
       "      <td>BJP</td>\n",
       "      <td>Fully Dissatisfied</td>\n",
       "      <td>Somewhat Satisfied</td>\n",
       "      <td>25</td>\n",
       "      <td>Male</td>\n",
       "      <td>191</td>\n",
       "      <td>Gen</td>\n",
       "      <td>0.673762</td>\n",
       "    </tr>\n",
       "    <tr>\n",
       "      <th>3</th>\n",
       "      <td>4</td>\n",
       "      <td>5-24-2017</td>\n",
       "      <td>Urban</td>\n",
       "      <td>Graduate</td>\n",
       "      <td>€ 10,000 - € 20,000</td>\n",
       "      <td>RJD</td>\n",
       "      <td>RJD</td>\n",
       "      <td>Fully Dissatisfied</td>\n",
       "      <td>Somewhat Satisfied</td>\n",
       "      <td>36</td>\n",
       "      <td>Male</td>\n",
       "      <td>194</td>\n",
       "      <td>Gen</td>\n",
       "      <td>1.101298</td>\n",
       "    </tr>\n",
       "    <tr>\n",
       "      <th>4</th>\n",
       "      <td>5</td>\n",
       "      <td>5-24-2017</td>\n",
       "      <td>Rural</td>\n",
       "      <td>Graduate</td>\n",
       "      <td>€ 50,000 - € 80,000</td>\n",
       "      <td>JD(U)</td>\n",
       "      <td>Did not vote</td>\n",
       "      <td>Fully Satisfied</td>\n",
       "      <td>Fully Satisfied</td>\n",
       "      <td>22</td>\n",
       "      <td>Male</td>\n",
       "      <td>176</td>\n",
       "      <td>BC</td>\n",
       "      <td>0.333505</td>\n",
       "    </tr>\n",
       "  </tbody>\n",
       "</table>\n",
       "</div>"
      ],
      "text/plain": [
       "   response_id collection_date urban_rural  education               income  \\\n",
       "0            1       5-24-2017       Rural  12th Pass  € 30,000 - € 50,000   \n",
       "1            2       5-24-2017       Rural   Graduate  € 20,000 - € 30,000   \n",
       "2            3       5-24-2017       Rural   Graduate   € 5,000 - € 10,000   \n",
       "3            4       5-24-2017       Urban   Graduate  € 10,000 - € 20,000   \n",
       "4            5       5-24-2017       Rural   Graduate  € 50,000 - € 80,000   \n",
       "\n",
       "  Vote_Now     Past_Vote     CM_satisfaction    MLA_satisfaction age gender  \\\n",
       "0      BJP           BJP  Fully Dissatisfied  Fully Dissatisfied  26   Male   \n",
       "1     RLSP         JD(U)  Somewhat Satisfied  Fully Dissatisfied  34   Male   \n",
       "2   JAP(L)           BJP  Fully Dissatisfied  Somewhat Satisfied  25   Male   \n",
       "3      RJD           RJD  Fully Dissatisfied  Somewhat Satisfied  36   Male   \n",
       "4    JD(U)  Did not vote     Fully Satisfied     Fully Satisfied  22   Male   \n",
       "\n",
       "   assembly_no category    weight  \n",
       "0          211      Gen  0.346969  \n",
       "1          189       BC  0.603419  \n",
       "2          191      Gen  0.673762  \n",
       "3          194      Gen  1.101298  \n",
       "4          176       BC  0.333505  "
      ]
     },
     "execution_count": 3,
     "metadata": {},
     "output_type": "execute_result"
    }
   ],
   "source": [
    "# load data into a dataframe and display the first 5 rows\n",
    "\n",
    "df = pd.read_csv(\"dataset/survey_TI.csv\")\n",
    "df.head()"
   ]
  },
  {
   "cell_type": "markdown",
   "id": "aef99deb",
   "metadata": {},
   "source": [
    "#### Question 1: how many samples were collected on each day?"
   ]
  },
  {
   "cell_type": "code",
   "execution_count": 4,
   "id": "4f0f0bde",
   "metadata": {},
   "outputs": [
    {
     "data": {
      "text/plain": [
       "5-24-2017    1479\n",
       "5-25-2017     998\n",
       "5-28-2017     761\n",
       "5-27-2017     665\n",
       "5-29-2017     620\n",
       "6-1-2017      607\n",
       "5-26-2017     598\n",
       "5-30-2017     582\n",
       "5-31-2017     557\n",
       "Name: collection_date, dtype: int64"
      ]
     },
     "execution_count": 4,
     "metadata": {},
     "output_type": "execute_result"
    }
   ],
   "source": [
    "# df.collection_date.unique()\n",
    "# df.collection_date.nunique()\n",
    "# df.collection_date.isnull().sum()\n",
    "\n",
    "df.collection_date.value_counts()"
   ]
  },
  {
   "cell_type": "markdown",
   "id": "1a389d57",
   "metadata": {},
   "source": [
    "#### Question 2: what proportion of the total respondents were aged less than 45?"
   ]
  },
  {
   "cell_type": "code",
   "execution_count": 5,
   "id": "c46baca1",
   "metadata": {},
   "outputs": [
    {
     "data": {
      "text/plain": [
       "60"
      ]
     },
     "execution_count": 5,
     "metadata": {},
     "output_type": "execute_result"
    }
   ],
   "source": [
    "# df.age.isnull().sum()\n",
    "# df.age.dtype\n",
    "\n",
    "# df.age.unique()\n",
    "df.age.nunique()"
   ]
  },
  {
   "cell_type": "code",
   "execution_count": 6,
   "id": "78dc4018",
   "metadata": {},
   "outputs": [],
   "source": [
    "# change '24ko' to 24\n",
    "df.age.replace({'24ko':'24'}, inplace = True)"
   ]
  },
  {
   "cell_type": "code",
   "execution_count": 7,
   "id": "3e97adc9",
   "metadata": {},
   "outputs": [
    {
     "data": {
      "text/plain": [
       "59"
      ]
     },
     "execution_count": 7,
     "metadata": {},
     "output_type": "execute_result"
    }
   ],
   "source": [
    "# df.age.unique()\n",
    "# df.age.value_counts()\n",
    "df.age.nunique()"
   ]
  },
  {
   "cell_type": "code",
   "execution_count": 8,
   "id": "10092b00",
   "metadata": {},
   "outputs": [
    {
     "data": {
      "text/plain": [
       "dtype('O')"
      ]
     },
     "execution_count": 8,
     "metadata": {},
     "output_type": "execute_result"
    }
   ],
   "source": [
    "df.age.dtype"
   ]
  },
  {
   "cell_type": "code",
   "execution_count": 9,
   "id": "db77b558",
   "metadata": {},
   "outputs": [
    {
     "data": {
      "text/plain": [
       "dtype('int32')"
      ]
     },
     "execution_count": 9,
     "metadata": {},
     "output_type": "execute_result"
    }
   ],
   "source": [
    "# change datatype\n",
    "\n",
    "df.age = df.age.astype(int)\n",
    "df.age.dtype"
   ]
  },
  {
   "cell_type": "code",
   "execution_count": 10,
   "id": "8696d27a",
   "metadata": {},
   "outputs": [],
   "source": [
    "# dataframe of participants less than 45 years\n",
    "df_45 = df[df.age < 45]"
   ]
  },
  {
   "cell_type": "code",
   "execution_count": 11,
   "id": "a7d130fa",
   "metadata": {},
   "outputs": [
    {
     "name": "stdout",
     "output_type": "stream",
     "text": [
      "93.2\n"
     ]
    }
   ],
   "source": [
    "# proportion of participants less than 45 years\n",
    "prop_45 = (len(df_45)/len(df)) * 100\n",
    "\n",
    "print(format(prop_45,\".1f\"))\n"
   ]
  },
  {
   "cell_type": "markdown",
   "id": "ee85be44",
   "metadata": {},
   "source": [
    "The proportion of participants less than the age of 45 is **93.2%**"
   ]
  },
  {
   "cell_type": "markdown",
   "id": "bbf479b8",
   "metadata": {},
   "source": [
    "#### Question 3: create a new column in the dataframe “age_group”. This column should contain the age group the respondent belongs to. The age groups are 18-25, 25-40, 40-55 and 55+."
   ]
  },
  {
   "cell_type": "code",
   "execution_count": 12,
   "id": "45993e8d",
   "metadata": {},
   "outputs": [
    {
     "data": {
      "text/html": [
       "<div>\n",
       "<style scoped>\n",
       "    .dataframe tbody tr th:only-of-type {\n",
       "        vertical-align: middle;\n",
       "    }\n",
       "\n",
       "    .dataframe tbody tr th {\n",
       "        vertical-align: top;\n",
       "    }\n",
       "\n",
       "    .dataframe thead th {\n",
       "        text-align: right;\n",
       "    }\n",
       "</style>\n",
       "<table border=\"1\" class=\"dataframe\">\n",
       "  <thead>\n",
       "    <tr style=\"text-align: right;\">\n",
       "      <th></th>\n",
       "      <th>response_id</th>\n",
       "      <th>collection_date</th>\n",
       "      <th>urban_rural</th>\n",
       "      <th>education</th>\n",
       "      <th>income</th>\n",
       "      <th>Vote_Now</th>\n",
       "      <th>Past_Vote</th>\n",
       "      <th>CM_satisfaction</th>\n",
       "      <th>MLA_satisfaction</th>\n",
       "      <th>age</th>\n",
       "      <th>gender</th>\n",
       "      <th>assembly_no</th>\n",
       "      <th>category</th>\n",
       "      <th>weight</th>\n",
       "    </tr>\n",
       "  </thead>\n",
       "  <tbody>\n",
       "    <tr>\n",
       "      <th>0</th>\n",
       "      <td>1</td>\n",
       "      <td>5-24-2017</td>\n",
       "      <td>Rural</td>\n",
       "      <td>12th Pass</td>\n",
       "      <td>€ 30,000 - € 50,000</td>\n",
       "      <td>BJP</td>\n",
       "      <td>BJP</td>\n",
       "      <td>Fully Dissatisfied</td>\n",
       "      <td>Fully Dissatisfied</td>\n",
       "      <td>26</td>\n",
       "      <td>Male</td>\n",
       "      <td>211</td>\n",
       "      <td>Gen</td>\n",
       "      <td>0.346969</td>\n",
       "    </tr>\n",
       "    <tr>\n",
       "      <th>1</th>\n",
       "      <td>2</td>\n",
       "      <td>5-24-2017</td>\n",
       "      <td>Rural</td>\n",
       "      <td>Graduate</td>\n",
       "      <td>€ 20,000 - € 30,000</td>\n",
       "      <td>RLSP</td>\n",
       "      <td>JD(U)</td>\n",
       "      <td>Somewhat Satisfied</td>\n",
       "      <td>Fully Dissatisfied</td>\n",
       "      <td>34</td>\n",
       "      <td>Male</td>\n",
       "      <td>189</td>\n",
       "      <td>BC</td>\n",
       "      <td>0.603419</td>\n",
       "    </tr>\n",
       "  </tbody>\n",
       "</table>\n",
       "</div>"
      ],
      "text/plain": [
       "   response_id collection_date urban_rural  education               income  \\\n",
       "0            1       5-24-2017       Rural  12th Pass  € 30,000 - € 50,000   \n",
       "1            2       5-24-2017       Rural   Graduate  € 20,000 - € 30,000   \n",
       "\n",
       "  Vote_Now Past_Vote     CM_satisfaction    MLA_satisfaction  age gender  \\\n",
       "0      BJP       BJP  Fully Dissatisfied  Fully Dissatisfied   26   Male   \n",
       "1     RLSP     JD(U)  Somewhat Satisfied  Fully Dissatisfied   34   Male   \n",
       "\n",
       "   assembly_no category    weight  \n",
       "0          211      Gen  0.346969  \n",
       "1          189       BC  0.603419  "
      ]
     },
     "execution_count": 12,
     "metadata": {},
     "output_type": "execute_result"
    }
   ],
   "source": [
    "# create a copy of the original dataframe\n",
    "\n",
    "ag_df = df.copy()\n",
    "ag_df.head(2)"
   ]
  },
  {
   "cell_type": "code",
   "execution_count": 13,
   "id": "3d5c4384",
   "metadata": {},
   "outputs": [
    {
     "data": {
      "text/plain": [
       "Index(['response_id', 'collection_date', 'urban_rural', 'education', 'income',\n",
       "       'Vote_Now', 'Past_Vote', 'CM_satisfaction', 'MLA_satisfaction', 'age',\n",
       "       'gender', 'assembly_no', 'category', 'weight'],\n",
       "      dtype='object')"
      ]
     },
     "execution_count": 13,
     "metadata": {},
     "output_type": "execute_result"
    }
   ],
   "source": [
    "ag_df.columns"
   ]
  },
  {
   "cell_type": "code",
   "execution_count": 14,
   "id": "1319a98c",
   "metadata": {},
   "outputs": [],
   "source": [
    "#ag_df.age.unique()"
   ]
  },
  {
   "cell_type": "code",
   "execution_count": 15,
   "id": "65e0dfad",
   "metadata": {},
   "outputs": [],
   "source": [
    "# create age_group column by binning the age column\n",
    "# method 1\n",
    "\n",
    "ag_df['age_group'] = pd.cut(x= ag_df['age'], \n",
    "                            bins=[18, 25, 40, 55, np.inf], \n",
    "                            labels=['18-25', '25-40', '40-55','55+'],\n",
    "                            include_lowest=True, right= False)"
   ]
  },
  {
   "cell_type": "code",
   "execution_count": 16,
   "id": "4fab2541",
   "metadata": {},
   "outputs": [],
   "source": [
    "# ag_df['age_group'] = ag_df['age'].apply(lambda age: '18-25' if age < 25 else '25-40' if age < 40 else '40-55' if age < 55 else '55+')\n"
   ]
  },
  {
   "cell_type": "code",
   "execution_count": 17,
   "id": "914feb87",
   "metadata": {},
   "outputs": [],
   "source": [
    "# method 3\n",
    "# def bin_age(age):\n",
    "#     if age <25:\n",
    "#         return '18-25'\n",
    "#     elif age <40:\n",
    "#         return '25-40'\n",
    "#     elif age < 55:\n",
    "#         return '40-55'\n",
    "#     else:\n",
    "#         return '55+'\n",
    "# ag_df['age_group'] = ag_df['age'].apply(bin_age)"
   ]
  },
  {
   "cell_type": "code",
   "execution_count": 18,
   "id": "95e14360",
   "metadata": {},
   "outputs": [],
   "source": [
    "move_col = ag_df.pop(\"age_group\")\n",
    "\n",
    "ag_df.insert(10, \"age_group\", move_col)"
   ]
  },
  {
   "cell_type": "code",
   "execution_count": 19,
   "id": "08561677",
   "metadata": {},
   "outputs": [
    {
     "data": {
      "text/html": [
       "<div>\n",
       "<style scoped>\n",
       "    .dataframe tbody tr th:only-of-type {\n",
       "        vertical-align: middle;\n",
       "    }\n",
       "\n",
       "    .dataframe tbody tr th {\n",
       "        vertical-align: top;\n",
       "    }\n",
       "\n",
       "    .dataframe thead th {\n",
       "        text-align: right;\n",
       "    }\n",
       "</style>\n",
       "<table border=\"1\" class=\"dataframe\">\n",
       "  <thead>\n",
       "    <tr style=\"text-align: right;\">\n",
       "      <th></th>\n",
       "      <th>response_id</th>\n",
       "      <th>collection_date</th>\n",
       "      <th>urban_rural</th>\n",
       "      <th>education</th>\n",
       "      <th>income</th>\n",
       "      <th>Vote_Now</th>\n",
       "      <th>Past_Vote</th>\n",
       "      <th>CM_satisfaction</th>\n",
       "      <th>MLA_satisfaction</th>\n",
       "      <th>age</th>\n",
       "      <th>age_group</th>\n",
       "      <th>gender</th>\n",
       "      <th>assembly_no</th>\n",
       "      <th>category</th>\n",
       "      <th>weight</th>\n",
       "    </tr>\n",
       "  </thead>\n",
       "  <tbody>\n",
       "    <tr>\n",
       "      <th>0</th>\n",
       "      <td>1</td>\n",
       "      <td>5-24-2017</td>\n",
       "      <td>Rural</td>\n",
       "      <td>12th Pass</td>\n",
       "      <td>€ 30,000 - € 50,000</td>\n",
       "      <td>BJP</td>\n",
       "      <td>BJP</td>\n",
       "      <td>Fully Dissatisfied</td>\n",
       "      <td>Fully Dissatisfied</td>\n",
       "      <td>26</td>\n",
       "      <td>25-40</td>\n",
       "      <td>Male</td>\n",
       "      <td>211</td>\n",
       "      <td>Gen</td>\n",
       "      <td>0.346969</td>\n",
       "    </tr>\n",
       "    <tr>\n",
       "      <th>1</th>\n",
       "      <td>2</td>\n",
       "      <td>5-24-2017</td>\n",
       "      <td>Rural</td>\n",
       "      <td>Graduate</td>\n",
       "      <td>€ 20,000 - € 30,000</td>\n",
       "      <td>RLSP</td>\n",
       "      <td>JD(U)</td>\n",
       "      <td>Somewhat Satisfied</td>\n",
       "      <td>Fully Dissatisfied</td>\n",
       "      <td>34</td>\n",
       "      <td>25-40</td>\n",
       "      <td>Male</td>\n",
       "      <td>189</td>\n",
       "      <td>BC</td>\n",
       "      <td>0.603419</td>\n",
       "    </tr>\n",
       "  </tbody>\n",
       "</table>\n",
       "</div>"
      ],
      "text/plain": [
       "   response_id collection_date urban_rural  education               income  \\\n",
       "0            1       5-24-2017       Rural  12th Pass  € 30,000 - € 50,000   \n",
       "1            2       5-24-2017       Rural   Graduate  € 20,000 - € 30,000   \n",
       "\n",
       "  Vote_Now Past_Vote     CM_satisfaction    MLA_satisfaction  age age_group  \\\n",
       "0      BJP       BJP  Fully Dissatisfied  Fully Dissatisfied   26     25-40   \n",
       "1     RLSP     JD(U)  Somewhat Satisfied  Fully Dissatisfied   34     25-40   \n",
       "\n",
       "  gender  assembly_no category    weight  \n",
       "0   Male          211      Gen  0.346969  \n",
       "1   Male          189       BC  0.603419  "
      ]
     },
     "execution_count": 19,
     "metadata": {},
     "output_type": "execute_result"
    }
   ],
   "source": [
    "ag_df.head(2)"
   ]
  },
  {
   "cell_type": "markdown",
   "id": "3caaca44",
   "metadata": {},
   "source": [
    "#### Question 4: how many samples were collected for each age-group? Which age-group had the most samples?"
   ]
  },
  {
   "cell_type": "code",
   "execution_count": 20,
   "id": "dec5ad34",
   "metadata": {
    "scrolled": true
   },
   "outputs": [
    {
     "data": {
      "text/plain": [
       "25-40    3844\n",
       "18-25    2094\n",
       "40-55     801\n",
       "55+       128\n",
       "Name: age_group, dtype: int64"
      ]
     },
     "execution_count": 20,
     "metadata": {},
     "output_type": "execute_result"
    }
   ],
   "source": [
    "ag_df.age_group.value_counts()"
   ]
  },
  {
   "cell_type": "markdown",
   "id": "af11acf9",
   "metadata": {},
   "source": [
    "<table>\n",
    "    <tr><td>Age group </td><td>Participants</td></tr>\n",
    "    <tr><td>18-25  </td><td>2094</td></tr>\n",
    "    <tr><td>25-40  </td><td>3844</td></tr>\n",
    "    <tr><td>40-55 </td><td>801</td></tr>\n",
    "    <tr><td>55+ </td><td>128</td></tr>\n",
    "</table>\n",
    "\n",
    "> Age group 25-40 had the most samples with 3844 participants."
   ]
  },
  {
   "cell_type": "markdown",
   "id": "389ad175",
   "metadata": {},
   "source": [
    "#### Question 5: what proportion of the respondents had opted for the RJD party in both the Vote_Now and the Past_Vote questions?"
   ]
  },
  {
   "cell_type": "code",
   "execution_count": 21,
   "id": "dd191d4c",
   "metadata": {},
   "outputs": [],
   "source": [
    "RJD_df = df[(df.Vote_Now == 'RJD') & (df.Past_Vote == 'RJD')]"
   ]
  },
  {
   "cell_type": "code",
   "execution_count": 22,
   "id": "fc71b04e",
   "metadata": {},
   "outputs": [
    {
     "name": "stdout",
     "output_type": "stream",
     "text": [
      "11.8\n"
     ]
    }
   ],
   "source": [
    "# proportion\n",
    "prop_RJD = (len(RJD_df)/len(df)) * 100\n",
    "\n",
    "print(format(prop_RJD,\".1f\"))\n"
   ]
  },
  {
   "cell_type": "markdown",
   "id": "3c51439e",
   "metadata": {},
   "source": [
    "The proportion of the respondents had opted for the RJD party in both the Vote_Now and the Past_Vote questions is **11.8%**"
   ]
  },
  {
   "cell_type": "code",
   "execution_count": null,
   "id": "0c81b8da",
   "metadata": {},
   "outputs": [],
   "source": []
  },
  {
   "cell_type": "code",
   "execution_count": null,
   "id": "d29dfc6b",
   "metadata": {},
   "outputs": [],
   "source": []
  },
  {
   "cell_type": "code",
   "execution_count": null,
   "id": "3fb3ccdd",
   "metadata": {},
   "outputs": [],
   "source": []
  },
  {
   "cell_type": "code",
   "execution_count": null,
   "id": "9e8d319c",
   "metadata": {},
   "outputs": [],
   "source": []
  },
  {
   "cell_type": "code",
   "execution_count": null,
   "id": "3ee4127d",
   "metadata": {},
   "outputs": [],
   "source": []
  }
 ],
 "metadata": {
  "kernelspec": {
   "display_name": "Python 3 (ipykernel)",
   "language": "python",
   "name": "python3"
  },
  "language_info": {
   "codemirror_mode": {
    "name": "ipython",
    "version": 3
   },
   "file_extension": ".py",
   "mimetype": "text/x-python",
   "name": "python",
   "nbconvert_exporter": "python",
   "pygments_lexer": "ipython3",
   "version": "3.9.12"
  }
 },
 "nbformat": 4,
 "nbformat_minor": 5
}
